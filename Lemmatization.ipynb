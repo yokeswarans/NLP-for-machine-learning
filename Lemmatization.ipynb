{
 "cells": [
  {
   "cell_type": "markdown",
   "id": "7094afd6",
   "metadata": {},
   "source": [
    "##### Wordnet Lemmatizer: \n",
    "Lemmatization techinque is like stemming.The output we will get after lemmatization is called 'lemma', which is a root word rather than root stem, the output of stemming.after lemmatization, we will be getting a valid word that means the same thing.\n",
    "\n",
    "NLTK provides WordNetLemmatizer class which is a thin wrapper around the wordnet corpus. this class uses morphy() function to the WordNet CorpusReader class to find a lemma. let us understand witht the example"
   ]
  },
  {
   "cell_type": "code",
   "execution_count": 4,
   "id": "25b00cb4",
   "metadata": {},
   "outputs": [],
   "source": [
    "from nltk.stem import WordNetLemmatizer\n",
    "lemmatizer=WordNetLemmatizer()"
   ]
  },
  {
   "cell_type": "code",
   "execution_count": null,
   "id": "d4918e0e",
   "metadata": {},
   "outputs": [
    {
     "data": {
      "text/plain": [
       "'go'"
      ]
     },
     "execution_count": 6,
     "metadata": {},
     "output_type": "execute_result"
    }
   ],
   "source": [
    "\"\"\"\n",
    "pos ->\n",
    "Noun - n\n",
    "verb - v\n",
    "adjective - a\n",
    "adverb - r\n",
    "\"\"\"\n",
    "lemmatizer.lemmatize(\"going\",pos='v')"
   ]
  },
  {
   "cell_type": "code",
   "execution_count": 7,
   "id": "8b33251a",
   "metadata": {},
   "outputs": [
    {
     "name": "stdout",
     "output_type": "stream",
     "text": [
      "eating----->eat\n",
      "eats----->eat\n",
      "eaten----->eat\n",
      "writing----->write\n",
      "writes----->write\n",
      "congratulation----->congratulation\n",
      "programming----->program\n",
      "programs----->program\n",
      "history----->history\n",
      "finally----->finally\n",
      "finalize----->finalize\n"
     ]
    }
   ],
   "source": [
    "words=[\"eating\",\"eats\",\"eaten\",\"writing\",\"writes\",\"congratulation\",\"programming\",\"programs\",\"history\",\"finally\",\"finalize\"]\n",
    "for word in words:\n",
    "    print(word+\"----->\"+lemmatizer.lemmatize(word,pos='v'))"
   ]
  },
  {
   "cell_type": "markdown",
   "id": "b2a59d61",
   "metadata": {},
   "source": [
    "Disadvatage : it is time consuming  \n",
    "use case : chatbots,Q&A and the text summarization"
   ]
  }
 ],
 "metadata": {
  "kernelspec": {
   "display_name": "Python 3",
   "language": "python",
   "name": "python3"
  },
  "language_info": {
   "codemirror_mode": {
    "name": "ipython",
    "version": 3
   },
   "file_extension": ".py",
   "mimetype": "text/x-python",
   "name": "python",
   "nbconvert_exporter": "python",
   "pygments_lexer": "ipython3",
   "version": "3.11.0"
  }
 },
 "nbformat": 4,
 "nbformat_minor": 5
}
